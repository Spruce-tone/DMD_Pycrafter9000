{
 "cells": [
  {
   "cell_type": "markdown",
   "metadata": {},
   "source": [
    "# Module import"
   ]
  },
  {
   "cell_type": "code",
   "execution_count": 1,
   "metadata": {},
   "outputs": [],
   "source": [
    "%reload_ext autoreload\n",
    "%autoreload 2\n",
    "# from pywinusb import hid\n",
    "import numpy as np\n",
    "from lib.DMDpycrafter import *\n",
    "from lib.Hadamard_lib.DMD_pattern_gen import *\n",
    "from PIL import ImageDraw, ImageFont, Image\n",
    "\n",
    "from skimage import io\n",
    "import matplotlib.pyplot as plt\n"
   ]
  },
  {
   "cell_type": "markdown",
   "metadata": {},
   "source": [
    "# pattern generation"
   ]
  },
  {
   "cell_type": "code",
   "execution_count": null,
   "metadata": {},
   "outputs": [
    {
     "data": {
      "text/plain": [
       "<matplotlib.image.AxesImage at 0x1450e4a2ee0>"
      ]
     },
     "execution_count": 19,
     "metadata": {},
     "output_type": "execute_result"
    },
    {
     "data": {
      "image/png": "[encoded data removed]",
      "text/plain": [
       "<Figure size 1080x720 with 6 Axes>"
      ]
     },
     "metadata": {
      "needs_background": "light"
     },
     "output_type": "display_data"
    }
   ],
   "source": [
    "fig, axes = plt.subplots(nrows=3, ncols=2, figsize=(15, 10))\n",
    "ax = axes.ravel()\n",
    "\n",
    "circle = create_circular_mask(1600, 2560, radius=461) # 53 laser 0.8 mm, 461 7mm pinhole size\n",
    "check = checkerboard(shape=(1600, 2560), exp_factor=50, shift=(0, 0))\n",
    "number = num_image(img_size=(1600, 2560), num=1, shift=(1000, 300))\n",
    "linex = line_pattern(shape=(1600, 2560), exp_factor=60, shift=(5, 0), axis='x')\n",
    "liney = line_pattern(shape=(1600, 2560), exp_factor=120, shift=(5, 0), axis='y')\n",
    "\n",
    "had = hadamard_dmd(rows=2560, cols=1600, n=11, separation=3, scale_factor=20)\n",
    "images = [~had[:, :, i].astype(bool) for i in range(had.shape[-1])]\n",
    "img_index_seq = list(range(len(images)))\n",
    "hadamard = images[2]\n",
    "\n",
    "ax[0].imshow(circle)\n",
    "ax[1].imshow(check)\n",
    "ax[2].imshow(number)\n",
    "ax[3].imshow(hadamard)\n",
    "ax[4].imshow(linex)\n",
    "ax[5].imshow(liney)"
   ]
  },
  {
   "cell_type": "markdown",
   "metadata": {},
   "source": [
    "# sequence test"
   ]
  },
  {
   "attachments": {},
   "cell_type": "markdown",
   "metadata": {},
   "source": [
    "## Integer sequence"
   ]
  },
  {
   "cell_type": "markdown",
   "metadata": {},
   "source": [
    "### Ascending order"
   ]
  },
  {
   "cell_type": "code",
   "execution_count": 12,
   "metadata": {},
   "outputs": [
    {
     "name": "stdout",
     "output_type": "stream",
     "text": [
      "date type :  bool\n"
     ]
    }
   ],
   "source": [
    "# define time units\n",
    "US = 1 # microsecond\n",
    "SEC = 1000000 * US # second\n",
    "\n",
    "images = []\n",
    "for i in range(10):\n",
    "    images.append(num_image(img_size=(1600, 2560), num=i, shift=(1000, 300))[::-1, :])\n",
    "img_index_seq = list(range(len(images)))\n",
    "print('date type : ', images[0].dtype)\n",
    "\n",
    "# define sequence \n",
    "# you have to define the index and exposure as integer\n",
    "img_index_seq = list(range(len(images))) # store image index in the order of displaying you want to show\n",
    "exposure = [int(0.3*SEC)] * len(images)\n",
    "dark_time = [int(0.3*SEC)] * len(images) # in microsecond, no patterns are sustained \n",
    "trigger_in = [False] * len(images)\n",
    "trigger_out = [0] * len(images)\n"
   ]
  },
  {
   "cell_type": "code",
   "execution_count": 13,
   "metadata": {},
   "outputs": [
    {
     "name": "stdout",
     "output_type": "stream",
     "text": [
      "merging...\n",
      "encoding...\n",
      "Compressed data size | master : 43083 | slave : [50283]\n",
      "uploading...\n",
      "0 86\n",
      "0 100\n"
     ]
    }
   ],
   "source": [
    "dmd = DMDhid()\n",
    "dmd.stopsequence()\n",
    "dmd.changemode(3)\n",
    "dmd.defsequence(images,exposure,trigger_in,dark_time,trigger_out,0, img_index_seq)\n"
   ]
  },
  {
   "cell_type": "code",
   "execution_count": 16,
   "metadata": {},
   "outputs": [],
   "source": [
    "\n",
    "dmd.startsequence()"
   ]
  },
  {
   "cell_type": "code",
   "execution_count": 17,
   "metadata": {},
   "outputs": [],
   "source": [
    "dmd.stopsequence()"
   ]
  },
  {
   "attachments": {},
   "cell_type": "markdown",
   "metadata": {},
   "source": [
    "### Specifying order and duration (The way for saving memory)"
   ]
  },
  {
   "cell_type": "code",
   "execution_count": 18,
   "metadata": {},
   "outputs": [],
   "source": [
    "# define time units\n",
    "US = 1 # microsecond\n",
    "SEC = 1000000 * US # second\n",
    "\n",
    "# store the number from 0 to 14\n",
    "images = []\n",
    "for i in range(14):\n",
    "    images.append(num_image(img_size=(1600, 2560), num=i, shift=(1000, 300))[::-1, :])\n",
    "\n",
    "# define sequence \n",
    "# you have to define the index and exposure as integer\n",
    "img_index_seq = [0, 5, 13, 13, 13, 1, 7, 6] # store image index in the order of displaying you want to show\n",
    "img_index_seq = [int(num) for num in img_index_seq]\n",
    "exposure = [0.4*SEC, 0.2*SEC, 1*SEC, 0.6*SEC, 0.2*SEC, 0.3*SEC, 0.3*SEC, 0.1*SEC]\n",
    "exposure = [int(exp) for exp in exposure]\n"
   ]
  },
  {
   "cell_type": "code",
   "execution_count": 19,
   "metadata": {},
   "outputs": [
    {
     "name": "stdout",
     "output_type": "stream",
     "text": [
      "merging...\n",
      "encoding...\n",
      "Compressed data size | master : 43083 | slave : [83000]\n",
      "uploading...\n",
      "0 86\n",
      "0 165\n",
      "100 165\n"
     ]
    }
   ],
   "source": [
    "dmd = DMDhid()\n",
    "dmd.stopsequence()\n",
    "dmd.changemode(3)\n",
    "dark_time=[400000]*len(img_index_seq) # in microsecond, no patterns are sustained \n",
    "trigger_in=[False]*len(img_index_seq)\n",
    "trigger_out=[0]*len(img_index_seq)\n",
    "dmd.defsequence(images, exposure, trigger_in, dark_time, trigger_out, 0, img_index_seq)\n"
   ]
  },
  {
   "cell_type": "code",
   "execution_count": 22,
   "metadata": {},
   "outputs": [],
   "source": [
    "dmd.startsequence()"
   ]
  },
  {
   "cell_type": "code",
   "execution_count": 23,
   "metadata": {},
   "outputs": [],
   "source": [
    "dmd.stopsequence()"
   ]
  },
  {
   "attachments": {},
   "cell_type": "markdown",
   "metadata": {},
   "source": [
    "## Hadamard pattern"
   ]
  },
  {
   "cell_type": "code",
   "execution_count": 29,
   "metadata": {},
   "outputs": [],
   "source": [
    "had = hadamard_dmd(rows=2560, cols=1600, n=11, separation=3, scale_factor=40)\n",
    "images = [~had[:, :, i].astype(bool) for i in range(had.shape[-1])]\n",
    "img_index_seq = list(range(len(images)))"
   ]
  },
  {
   "cell_type": "code",
   "execution_count": 30,
   "metadata": {},
   "outputs": [
    {
     "name": "stdout",
     "output_type": "stream",
     "text": [
      "merging...\n",
      "encoding...\n",
      "Compressed data size | master : 11411 | slave : [11411]\n",
      "uploading...\n",
      "0 23\n",
      "0 23\n"
     ]
    }
   ],
   "source": [
    "dmd = DMDhid()\n",
    "dmd.stopsequence()\n",
    "dmd.changemode(3)\n",
    "exposure=[200000]*len(images) # in microsecond, time for sustaining number\n",
    "dark_time=[000000]*len(images) # in microsecond, no patterns are sustained \n",
    "trigger_in=[False]*len(images)\n",
    "trigger_out=[0]*len(images)\n",
    "dmd.defsequence(images,exposure,trigger_in,dark_time,trigger_out,0, img_index_seq)\n"
   ]
  },
  {
   "cell_type": "code",
   "execution_count": 37,
   "metadata": {},
   "outputs": [],
   "source": [
    "dmd.startsequence()"
   ]
  },
  {
   "cell_type": "code",
   "execution_count": 38,
   "metadata": {},
   "outputs": [],
   "source": [
    "dmd.stopsequence()"
   ]
  }
 ],
 "metadata": {
  "kernelspec": {
   "display_name": "hadamard",
   "language": "python",
   "name": "python3"
  },
  "language_info": {
   "codemirror_mode": {
    "name": "ipython",
    "version": 3
   },
   "file_extension": ".py",
   "mimetype": "text/x-python",
   "name": "python",
   "nbconvert_exporter": "python",
   "pygments_lexer": "ipython3",
   "version": "3.8.12"
  },
  "orig_nbformat": 4,
  "vscode": {
   "interpreter": {
    "hash": "7218b95299b2a323db38620d8b2b93321b8a5fa291bd6bea6c02fbbdd9af5da0"
   }
  }
 },
 "nbformat": 4,
 "nbformat_minor": 2
}
