{
 "cells": [
  {
   "cell_type": "code",
   "execution_count": 10,
   "metadata": {},
   "outputs": [],
   "source": [
    "from pywinusb import hid"
   ]
  },
  {
   "cell_type": "code",
   "execution_count": 11,
   "metadata": {},
   "outputs": [],
   "source": [
    "#usb Vendor ID\n",
    "vendor_num = 0x0451\n",
    "#usb Product ID\n",
    "product_num = 0xc900"
   ]
  },
  {
   "cell_type": "code",
   "execution_count": 12,
   "metadata": {},
   "outputs": [],
   "source": [
    "filter = hid.HidDeviceFilter(vendor_id = vendor_num, product_id = product_num)"
   ]
  },
  {
   "cell_type": "code",
   "execution_count": 13,
   "metadata": {},
   "outputs": [],
   "source": [
    "devices = filter.get_devices()"
   ]
  },
  {
   "cell_type": "code",
   "execution_count": 15,
   "metadata": {},
   "outputs": [
    {
     "data": {
      "text/plain": [
       "HID device (vID=0x0451, pID=0xc900, v=0x0000); Texas Instruments Inc.; DLPC900, Path: \\\\?\\hid#vid_0451&pid_c900&mi_00#9&3843ecd&0&0000#{4d1e55b2-f16f-11cf-88cb-001111000030}"
      ]
     },
     "execution_count": 15,
     "metadata": {},
     "output_type": "execute_result"
    }
   ],
   "source": [
    "devices[0]"
   ]
  },
  {
   "cell_type": "code",
   "execution_count": null,
   "metadata": {},
   "outputs": [],
   "source": [
    "import logging\n",
    "logger = logging.getLogger('name')\n",
    "logger.setLevel(logging.INFO)\n",
    "logger.info('asdf')\n",
    "logging.Formatter(\n",
    "  fmt = None,     # 메시지 출력 형태. None일 경우 raw 메시지를 출력.\n",
    "  datefmt = None, # 날짜 출력 형태. None일 경우 '%Y-%m-%d %H:%M:%S'.\n",
    "  style = '%'     # '%', '{', '$' 중 하나. `fmt`의 style을 결정.\n",
    ")\n"
   ]
  },
  {
   "cell_type": "code",
   "execution_count": 11,
   "metadata": {},
   "outputs": [],
   "source": [
    "stream_handler = logging.StreamHandler()\n",
    "file_handler = logging.FileHandler(filename='information.log')\n",
    "\n",
    "formatter = logging.Formatter(fmt=\"%(asctime)s - %(name)s - %(levelname)s - %(message)s\")\n",
    "\n",
    "stream_handler.setLevel(logging.INFO)\n",
    "file_handler.setLevel(logging.DEBUG)\n",
    "\n",
    "stream_handler.setFormatter(formatter)\n",
    "file_handler.setFormatter(formatter)\n",
    "\n",
    "# logger.propagate = False\n",
    "logger.addHandler(stream_handler)\n",
    "logger.addHandler(file_handler)"
   ]
  },
  {
   "cell_type": "code",
   "execution_count": 1,
   "metadata": {},
   "outputs": [],
   "source": [
    "# %load_ext autoreload\n",
    "%reload_ext autoreload\n",
    "%autoreload 2\n",
    "\n",
    "from lib.utils import CustomLogger\n",
    "import logging"
   ]
  },
  {
   "cell_type": "code",
   "execution_count": 2,
   "metadata": {},
   "outputs": [],
   "source": [
    "logger = CustomLogger().info_logger"
   ]
  },
  {
   "cell_type": "code",
   "execution_count": 3,
   "metadata": {},
   "outputs": [
    {
     "name": "stdout",
     "output_type": "stream",
     "text": [
      "[INFO | 2022-02-19 20:35:54,826 | 1375158448.py | asdf] (line 3) asdf :: info logger\n"
     ]
    }
   ],
   "source": [
    "def asdf():\n",
    "    for i in range(1):\n",
    "        logger.info('asdf')\n",
    "asdf()"
   ]
  },
  {
   "cell_type": "code",
   "execution_count": null,
   "metadata": {},
   "outputs": [],
   "source": []
  }
 ],
 "metadata": {
  "interpreter": {
   "hash": "d3619e30f5b54529ba71dcf8a375b90d40a1b72f296e54f8dd1de35fe067505a"
  },
  "kernelspec": {
   "display_name": "Python 3.8.12 ('hadamard')",
   "language": "python",
   "name": "python3"
  },
  "language_info": {
   "codemirror_mode": {
    "name": "ipython",
    "version": 3
   },
   "file_extension": ".py",
   "mimetype": "text/x-python",
   "name": "python",
   "nbconvert_exporter": "python",
   "pygments_lexer": "ipython3",
   "version": "3.8.12"
  },
  "orig_nbformat": 4
 },
 "nbformat": 4,
 "nbformat_minor": 2
}
