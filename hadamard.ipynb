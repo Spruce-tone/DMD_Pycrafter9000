{
 "cells": [
  {
   "cell_type": "code",
   "execution_count": 2,
   "metadata": {},
   "outputs": [],
   "source": [
    "%reload_ext autoreload\n",
    "%autoreload 2\n",
    "from pywinusb import hid\n",
    "from lib.DMDpycrafter import DMDhid"
   ]
  },
  {
   "cell_type": "code",
   "execution_count": 2,
   "metadata": {},
   "outputs": [],
   "source": [
    "dmd = DMDhid()"
   ]
  },
  {
   "cell_type": "code",
   "execution_count": 3,
   "metadata": {},
   "outputs": [],
   "source": [
    "vendor_num = 0x0451\n",
    "#usb Product ID\n",
    "product_num = 0xc900\n",
    "\n",
    "filter = hid.HidDeviceFilter(vendor_id = vendor_num, product_id = product_num)\n",
    "devices = filter.get_devices()"
   ]
  },
  {
   "cell_type": "code",
   "execution_count": 4,
   "metadata": {},
   "outputs": [
    {
     "data": {
      "text/plain": [
       "[HID device (vID=0x0451, pID=0xc900, v=0x0000); Texas Instruments Inc.; C900, Path: \\\\?\\hid#vid_0451&pid_c900&mi_01#9&ac0a31b&0&0000#{4d1e55b2-f16f-11cf-88cb-001111000030}]"
      ]
     },
     "execution_count": 4,
     "metadata": {},
     "output_type": "execute_result"
    }
   ],
   "source": [
    "    def standby(self):\n",
    "        self.command('w',0x00,0x02,0x00,[int('00000001',2)])\n",
    "        self.checkforerrors()"
   ]
  },
  {
   "cell_type": "code",
   "execution_count": null,
   "metadata": {},
   "outputs": [],
   "source": [
    "def checkforerrors(self):\n",
    "    self.command('r',0x22,0x01,0x00,[])\n",
    "    if self.ans[6]!=0:\n",
    "        print (self.ans[6])  "
   ]
  },
  {
   "cell_type": "code",
   "execution_count": 57,
   "metadata": {},
   "outputs": [
    {
     "data": {
      "text/plain": [
       "'0000000000000110'"
      ]
     },
     "execution_count": 57,
     "metadata": {},
     "output_type": "execute_result"
    }
   ],
   "source": [
    "convlen(len([0xff,0x01,0xff,0x01])+2,16)"
   ]
  },
  {
   "cell_type": "code",
   "execution_count": 61,
   "metadata": {},
   "outputs": [
    {
     "data": {
      "text/plain": [
       "19"
      ]
     },
     "execution_count": 61,
     "metadata": {},
     "output_type": "execute_result"
    }
   ],
   "source": [
    "int('00010011',2)"
   ]
  },
  {
   "cell_type": "code",
   "execution_count": 14,
   "metadata": {},
   "outputs": [],
   "source": [
    "def bitstobytes(a):\n",
    "    bytelist=[]\n",
    "    if len(a)%8!=0:\n",
    "        padding=8-len(a)%8\n",
    "        a='0'*padding+a\n",
    "    for i in range(len(a)//8):\n",
    "        bytelist.append(int(a[8*i:8*(i+1)],2))\n",
    "\n",
    "    bytelist.reverse()\n",
    "\n",
    "    return bytelist"
   ]
  },
  {
   "cell_type": "code",
   "execution_count": null,
   "metadata": {},
   "outputs": [],
   "source": []
  },
  {
   "cell_type": "code",
   "execution_count": 7,
   "metadata": {},
   "outputs": [
    {
     "data": {
      "text/plain": [
       "[6, 0]"
      ]
     },
     "execution_count": 7,
     "metadata": {},
     "output_type": "execute_result"
    }
   ],
   "source": [
    "def bitstobytes(a):\n",
    "    bytelist=[]\n",
    "    if len(a)%8!=0:\n",
    "        padding=8-len(a)%8\n",
    "        a='0'*padding+a\n",
    "    for i in range(len(a)//8):\n",
    "        bytelist.append(int(a[8*i:8*(i+1)],2))\n",
    "\n",
    "    bytelist.reverse()\n",
    "\n",
    "    return bytelist\n",
    "\n",
    "def convlen(a,l):\n",
    "    b=bin(a)[2:]\n",
    "    padding=l-len(b)\n",
    "    b='0'*padding+b\n",
    "\n",
    "    return b\n",
    "\n",
    "bitstobytes(convlen(len([0xff,0x01,0xff,0x01])+2,16))"
   ]
  },
  {
   "cell_type": "code",
   "execution_count": null,
   "metadata": {},
   "outputs": [],
   "source": [
    "def command(self,mode,sequencebyte,com1,com2,data=None):\n",
    "    buffer = []\n",
    "\n",
    "    flagstring=''\n",
    "    if mode=='r':\n",
    "        flagstring+='1'\n",
    "    else:\n",
    "        flagstring+='0'        \n",
    "    flagstring+='1000000'\n",
    "    buffer.append(bitstobytes(flagstring)[0])\n",
    "    buffer.append(sequencebyte)\n",
    "    temp=bitstobytes(convlen(len(data)+2,16))\n",
    "    buffer.append(temp[0])\n",
    "    buffer.append(temp[1])\n",
    "    buffer.append(com2)\n",
    "    buffer.append(com1)\n",
    "\n",
    "    if len(buffer)+len(data)<65:\n",
    "    \n",
    "        for i in range(len(data)):\n",
    "            buffer.append(data[i])\n",
    "\n",
    "        for i in range(64-len(buffer)):\n",
    "            buffer.append(0x00)\n",
    "\n",
    "\n",
    "        self.dev.write(1, buffer)\n",
    "\n",
    "    else:\n",
    "        for i in range(64-len(buffer)):\n",
    "            buffer.append(data[i])\n",
    "\n",
    "        self.dev.write(1, buffer)\n",
    "\n",
    "        buffer = []\n",
    "\n",
    "        j=0\n",
    "        while j<len(data)-58:\n",
    "            buffer.append(data[j+58])\n",
    "            j=j+1\n",
    "            if j%64==0:\n",
    "                self.dev.write(1, buffer)\n",
    "\n",
    "                buffer = []\n",
    "\n",
    "        if j%64!=0:\n",
    "\n",
    "            while j%64!=0:\n",
    "                buffer.append(0x00)\n",
    "                j=j+1\n",
    "\n",
    "\n",
    "            self.dev.write(1, buffer)                \n",
    "            \n",
    "\n",
    "\n",
    "\n",
    "\n",
    "\n",
    "    self.ans=self.dev.read(0x81,64)"
   ]
  },
  {
   "cell_type": "code",
   "execution_count": 17,
   "metadata": {},
   "outputs": [
    {
     "data": {
      "text/plain": [
       "[3, 0]"
      ]
     },
     "execution_count": 17,
     "metadata": {},
     "output_type": "execute_result"
    }
   ],
   "source": [
    "bitstobytes(convlen(len([int('00000001',2)])+2,16))"
   ]
  },
  {
   "cell_type": "code",
   "execution_count": null,
   "metadata": {},
   "outputs": [],
   "source": [
    "def convlen(a,l):\n",
    "    b=bin(a)[2:]\n",
    "    padding=l-len(b)\n",
    "    b='0'*padding+b\n",
    "\n",
    "    return b\n",
    "\n",
    "def bitstobytes(a):\n",
    "    bytelist=[]\n",
    "    if len(a)%8!=0:\n",
    "        padding=8-len(a)%8\n",
    "        a='0'*padding+a\n",
    "    for i in range(len(a)//8):\n",
    "        bytelist.append(int(a[8*i:8*(i+1)],2))\n",
    "\n",
    "    bytelist.reverse() \n"
   ]
  },
  {
   "cell_type": "code",
   "execution_count": 45,
   "metadata": {},
   "outputs": [],
   "source": [
    "for i in range(-10):\n",
    "    print(i)"
   ]
  },
  {
   "cell_type": "code",
   "execution_count": 23,
   "metadata": {},
   "outputs": [
    {
     "data": {
      "text/plain": [
       "6"
      ]
     },
     "execution_count": 23,
     "metadata": {},
     "output_type": "execute_result"
    }
   ],
   "source": [
    "len([0xff,0x01,0xff,0x01,0xff,0x01])"
   ]
  },
  {
   "cell_type": "code",
   "execution_count": 29,
   "metadata": {},
   "outputs": [
    {
     "data": {
      "text/plain": [
       "'0000000000000011'"
      ]
     },
     "execution_count": 29,
     "metadata": {},
     "output_type": "execute_result"
    }
   ],
   "source": [
    "convlen(3, 16)"
   ]
  },
  {
   "cell_type": "code",
   "execution_count": 33,
   "metadata": {},
   "outputs": [
    {
     "data": {
      "text/plain": [
       "[3, 0]"
      ]
     },
     "execution_count": 33,
     "metadata": {},
     "output_type": "execute_result"
    }
   ],
   "source": [
    "bitstobytes(convlen(3, 16))"
   ]
  },
  {
   "cell_type": "code",
   "execution_count": 34,
   "metadata": {},
   "outputs": [],
   "source": [
    "for i in range(0):\n",
    "    print(i)"
   ]
  },
  {
   "cell_type": "code",
   "execution_count": 1,
   "metadata": {},
   "outputs": [],
   "source": [
    "# %load_ext autoreload\n",
    "%reload_ext autoreload\n",
    "%autoreload 2\n",
    "\n",
    "from lib.utils import CustomLogger\n",
    "import logging"
   ]
  },
  {
   "cell_type": "code",
   "execution_count": 2,
   "metadata": {},
   "outputs": [],
   "source": [
    "logger = CustomLogger().info_logger"
   ]
  },
  {
   "cell_type": "code",
   "execution_count": 3,
   "metadata": {},
   "outputs": [
    {
     "name": "stdout",
     "output_type": "stream",
     "text": [
      "[INFO | 2022-02-19 20:35:54,826 | 1375158448.py | asdf] (line 3) asdf :: info logger\n"
     ]
    }
   ],
   "source": [
    "def asdf():\n",
    "    for i in range(1):\n",
    "        logger.info('asdf')\n",
    "asdf()"
   ]
  },
  {
   "cell_type": "code",
   "execution_count": null,
   "metadata": {},
   "outputs": [],
   "source": []
  }
 ],
 "metadata": {
  "interpreter": {
   "hash": "d3619e30f5b54529ba71dcf8a375b90d40a1b72f296e54f8dd1de35fe067505a"
  },
  "kernelspec": {
   "display_name": "Python 3.8.12 ('hadamard')",
   "language": "python",
   "name": "python3"
  },
  "language_info": {
   "codemirror_mode": {
    "name": "ipython",
    "version": 3
   },
   "file_extension": ".py",
   "mimetype": "text/x-python",
   "name": "python",
   "nbconvert_exporter": "python",
   "pygments_lexer": "ipython3",
   "version": "3.8.12"
  },
  "orig_nbformat": 4
 },
 "nbformat": 4,
 "nbformat_minor": 2
}
