{
 "cells": [
  {
   "cell_type": "code",
   "execution_count": 1,
   "metadata": {},
   "outputs": [],
   "source": [
    "from pywinusb import hid"
   ]
  },
  {
   "cell_type": "code",
   "execution_count": 3,
   "metadata": {},
   "outputs": [],
   "source": [
    "#usb Vendor ID\n",
    "vendor_num = 0x0451\n",
    "#usb Product ID\n",
    "product_num = 0xc900"
   ]
  },
  {
   "cell_type": "code",
   "execution_count": 4,
   "metadata": {},
   "outputs": [],
   "source": [
    "filter = hid.HidDeviceFilter(vendor_id = vendor_num, product_id = product_num)"
   ]
  },
  {
   "cell_type": "code",
   "execution_count": 5,
   "metadata": {},
   "outputs": [],
   "source": [
    "devices = filter.get_devices()"
   ]
  },
  {
   "cell_type": "code",
   "execution_count": 26,
   "metadata": {},
   "outputs": [
    {
     "ename": "AttributeError",
     "evalue": "'HidDevice' object has no attribute 'set_configuration'",
     "output_type": "error",
     "traceback": [
      "\u001b[1;31m---------------------------------------------------------------------------\u001b[0m",
      "\u001b[1;31mAttributeError\u001b[0m                            Traceback (most recent call last)",
      "\u001b[1;32me:\\Spruce Dropbox\\Jo Yongjae\\Notebook\\programming\\python\\hadamard\\hadamard.ipynb Cell 5'\u001b[0m in \u001b[0;36m<module>\u001b[1;34m\u001b[0m\n\u001b[1;32m----> <a href='vscode-notebook-cell:/e%3A/Spruce%20Dropbox/Jo%20Yongjae/Notebook/programming/python/hadamard/hadamard.ipynb#ch0000012?line=0'>1</a>\u001b[0m devices[\u001b[39m1\u001b[39;49m]\u001b[39m.\u001b[39;49mset_configuration()\n",
      "\u001b[1;31mAttributeError\u001b[0m: 'HidDevice' object has no attribute 'set_configuration'"
     ]
    }
   ],
   "source": [
    "devices[1].set_configuration()"
   ]
  },
  {
   "cell_type": "code",
   "execution_count": 8,
   "metadata": {},
   "outputs": [],
   "source": [
    "def readData(data):\n",
    "    print(data)\n",
    "    return None\n",
    "devices[1].set_raw_data_handler(readData)"
   ]
  },
  {
   "cell_type": "code",
   "execution_count": 13,
   "metadata": {},
   "outputs": [],
   "source": [
    "def convlen(a,l):\n",
    "    b=bin(a)[2:]\n",
    "    padding=l-len(b)\n",
    "    b='0'*padding+b\n",
    "\n",
    "    return b\n",
    "\n",
    "def bitstobytes(a):\n",
    "    bytelist=[]\n",
    "    if len(a)%8!=0:\n",
    "        padding=8-len(a)%8\n",
    "        a='0'*padding+a\n",
    "    for i in range(len(a)//8):\n",
    "        bytelist.append(int(a[8*i:8*(i+1)],2))\n",
    "\n",
    "    bytelist.reverse()\n",
    "\n",
    "    return bytelist"
   ]
  },
  {
   "cell_type": "code",
   "execution_count": 37,
   "metadata": {},
   "outputs": [
    {
     "data": {
      "text/plain": [
       "[3, 0]"
      ]
     },
     "execution_count": 37,
     "metadata": {},
     "output_type": "execute_result"
    }
   ],
   "source": [
    "bitstobytes(convlen(len([int('00000001',2)])+2,16))"
   ]
  },
  {
   "cell_type": "code",
   "execution_count": 23,
   "metadata": {},
   "outputs": [],
   "source": [
    "buffer = []\n",
    "\n",
    "flagstring=''\n",
    "flagstring+='1'   \n",
    "flagstring+='1000000'\n",
    "buffer.append(bitstobytes(flagstring)[0])"
   ]
  },
  {
   "cell_type": "code",
   "execution_count": 25,
   "metadata": {},
   "outputs": [
    {
     "data": {
      "text/plain": [
       "[192]"
      ]
     },
     "execution_count": 25,
     "metadata": {},
     "output_type": "execute_result"
    }
   ],
   "source": [
    "bitstobytes(flagstring)"
   ]
  },
  {
   "cell_type": "code",
   "execution_count": null,
   "metadata": {},
   "outputs": [],
   "source": []
  },
  {
   "cell_type": "code",
   "execution_count": 24,
   "metadata": {},
   "outputs": [
    {
     "data": {
      "text/plain": [
       "'11000000'"
      ]
     },
     "execution_count": 24,
     "metadata": {},
     "output_type": "execute_result"
    }
   ],
   "source": [
    "flagstring"
   ]
  },
  {
   "cell_type": "code",
   "execution_count": 31,
   "metadata": {},
   "outputs": [
    {
     "data": {
      "text/plain": [
       "2"
      ]
     },
     "execution_count": 31,
     "metadata": {},
     "output_type": "execute_result"
    }
   ],
   "source": [
    "int('00000010',2)"
   ]
  },
  {
   "cell_type": "code",
   "execution_count": null,
   "metadata": {},
   "outputs": [],
   "source": [
    "def idle_on(self):\n",
    "    self.command('w',0x00,0x02,0x01,[int('00000001',2)])\n",
    "    self.checkforerrors()"
   ]
  },
  {
   "cell_type": "code",
   "execution_count": null,
   "metadata": {},
   "outputs": [],
   "source": [
    "def checkforerrors(self):\n",
    "    self.command('r',0x22,0x01,0x00,[])\n",
    "    if self.ans[6]!=0:\n",
    "        print (self.ans[6])  "
   ]
  },
  {
   "cell_type": "code",
   "execution_count": null,
   "metadata": {},
   "outputs": [],
   "source": [
    "def command(self,mode,sequencebyte,com1,com2,data=None):\n",
    "    buffer = []\n",
    "\n",
    "    flagstring=''\n",
    "    if mode=='r':\n",
    "        flagstring+='1'\n",
    "    else:\n",
    "        flagstring+='0'        \n",
    "    flagstring+='1000000'\n",
    "    buffer.append(bitstobytes(flagstring)[0])\n",
    "    buffer.append(sequencebyte)\n",
    "    temp=bitstobytes(convlen(len(data)+2,16))\n",
    "    buffer.append(temp[0])\n",
    "    buffer.append(temp[1])\n",
    "    buffer.append(com2)\n",
    "    buffer.append(com1)\n",
    "\n",
    "    if len(buffer)+len(data)<65:\n",
    "    \n",
    "        for i in range(len(data)):\n",
    "            buffer.append(data[i])\n",
    "\n",
    "        for i in range(64-len(buffer)):\n",
    "            buffer.append(0x00)\n",
    "\n",
    "\n",
    "        self.dev.write(1, buffer)\n",
    "\n",
    "    else:\n",
    "        for i in range(64-len(buffer)):\n",
    "            buffer.append(data[i])\n",
    "\n",
    "        self.dev.write(1, buffer)\n",
    "\n",
    "        buffer = []\n",
    "\n",
    "        j=0\n",
    "        while j<len(data)-58:\n",
    "            buffer.append(data[j+58])\n",
    "            j=j+1\n",
    "            if j%64==0:\n",
    "                self.dev.write(1, buffer)\n",
    "\n",
    "                buffer = []\n",
    "\n",
    "        if j%64!=0:\n",
    "\n",
    "            while j%64!=0:\n",
    "                buffer.append(0x00)\n",
    "                j=j+1\n",
    "\n",
    "\n",
    "            self.dev.write(1, buffer)                \n",
    "            \n",
    "\n",
    "\n",
    "\n",
    "\n",
    "\n",
    "    self.ans=self.dev.read(0x81,64)"
   ]
  },
  {
   "cell_type": "code",
   "execution_count": 19,
   "metadata": {},
   "outputs": [
    {
     "data": {
      "text/plain": [
       "[7]"
      ]
     },
     "execution_count": 19,
     "metadata": {},
     "output_type": "execute_result"
    }
   ],
   "source": [
    "bitstobytes('111')"
   ]
  },
  {
   "cell_type": "code",
   "execution_count": 12,
   "metadata": {},
   "outputs": [
    {
     "data": {
      "text/plain": [
       "'101'"
      ]
     },
     "execution_count": 12,
     "metadata": {},
     "output_type": "execute_result"
    }
   ],
   "source": [
    "convlen(5, 2)"
   ]
  },
  {
   "cell_type": "code",
   "execution_count": 1,
   "metadata": {},
   "outputs": [],
   "source": [
    "# %load_ext autoreload\n",
    "%reload_ext autoreload\n",
    "%autoreload 2\n",
    "\n",
    "from lib.utils import CustomLogger\n",
    "import logging"
   ]
  },
  {
   "cell_type": "code",
   "execution_count": 2,
   "metadata": {},
   "outputs": [],
   "source": [
    "logger = CustomLogger().info_logger"
   ]
  },
  {
   "cell_type": "code",
   "execution_count": 3,
   "metadata": {},
   "outputs": [
    {
     "name": "stdout",
     "output_type": "stream",
     "text": [
      "[INFO | 2022-02-19 20:35:54,826 | 1375158448.py | asdf] (line 3) asdf :: info logger\n"
     ]
    }
   ],
   "source": [
    "def asdf():\n",
    "    for i in range(1):\n",
    "        logger.info('asdf')\n",
    "asdf()"
   ]
  },
  {
   "cell_type": "code",
   "execution_count": null,
   "metadata": {},
   "outputs": [],
   "source": []
  }
 ],
 "metadata": {
  "interpreter": {
   "hash": "d3619e30f5b54529ba71dcf8a375b90d40a1b72f296e54f8dd1de35fe067505a"
  },
  "kernelspec": {
   "display_name": "Python 3.8.12 ('hadamard')",
   "language": "python",
   "name": "python3"
  },
  "language_info": {
   "codemirror_mode": {
    "name": "ipython",
    "version": 3
   },
   "file_extension": ".py",
   "mimetype": "text/x-python",
   "name": "python",
   "nbconvert_exporter": "python",
   "pygments_lexer": "ipython3",
   "version": "3.8.12"
  },
  "orig_nbformat": 4
 },
 "nbformat": 4,
 "nbformat_minor": 2
}
