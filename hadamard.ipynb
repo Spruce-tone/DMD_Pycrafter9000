{
 "cells": [
  {
   "cell_type": "code",
   "execution_count": 6,
   "metadata": {},
   "outputs": [],
   "source": [
    "%reload_ext autoreload\n",
    "%autoreload 2\n",
    "from pywinusb import hid\n",
    "from lib.DMDpycrafter import DMDhid\n",
    "import PIL.Image\n",
    "import matplotlib.pyplot as plt\n",
    "import numpy as np\n",
    "from lib.DMD import DmdDeviceHID"
   ]
  },
  {
   "cell_type": "code",
   "execution_count": 7,
   "metadata": {},
   "outputs": [],
   "source": [
    "images=[]\n",
    "img = np.asarray(PIL.Image.open(\"testimage.tif\"))//129\n",
    "img2 = np.asarray(PIL.Image.open(\"testimage2.tif\"))//129\n",
    "img3 = np.asarray(PIL.Image.open(\"testimage3.tif\"))//129\n",
    "h = (1600-1080)/2\n",
    "w = (2560-1920)/2\n",
    "img = np.pad(img, ((int(np.floor(h)), int(np.ceil(h))), (int(np.floor(w)), int(np.ceil(w)))), 'constant', constant_values=(0.5, 0.5))\n",
    "img2 = np.pad(img2, ((int(np.floor(h)), int(np.ceil(h))), (int(np.floor(w)), int(np.ceil(w)))), 'constant', constant_values=(0.5, 0.5))\n",
    "img3 = np.pad(img3, ((int(np.floor(h)), int(np.ceil(h))), (int(np.floor(w)), int(np.ceil(w)))), 'constant', constant_values=(0.5, 0.5))\n",
    "\n",
    "images.append(img)\n",
    "images.append(img2)\n",
    "images.append(img3)"
   ]
  },
  {
   "cell_type": "code",
   "execution_count": 8,
   "metadata": {},
   "outputs": [
    {
     "data": {
      "text/plain": [
       "<matplotlib.image.AxesImage at 0x1c318b1d430>"
      ]
     },
     "execution_count": 8,
     "metadata": {},
     "output_type": "execute_result"
    },
    {
     "data": {
      "image/png": "[encoded data removed]",
      "text/plain": [
       "<Figure size 432x288 with 1 Axes>"
      ]
     },
     "metadata": {
      "needs_background": "light"
     },
     "output_type": "display_data"
    }
   ],
   "source": [
    "plt.imshow(img3[:, :1280])"
   ]
  },
  {
   "cell_type": "code",
   "execution_count": 9,
   "metadata": {},
   "outputs": [
    {
     "name": "stdout",
     "output_type": "stream",
     "text": [
      "merging...\n",
      "encoding...\n",
      "63968\n",
      "90636\n",
      "uploading...\n",
      "0 127\n",
      "100 127\n",
      "0 180\n",
      "100 180\n"
     ]
    }
   ],
   "source": [
    "dmd = DMDhid()\n",
    "dmd.stopsequence()\n",
    "dmd.changemode(3)\n",
    "exposure=[1000000]*30\n",
    "dark_time=[0]*30\n",
    "trigger_in=[False]*30\n",
    "trigger_out=[1]*30\n",
    "dmd.defsequence(images,exposure,trigger_in,dark_time,trigger_out,0)\n"
   ]
  },
  {
   "cell_type": "code",
   "execution_count": 10,
   "metadata": {},
   "outputs": [],
   "source": [
    "dmd.startsequence()"
   ]
  },
  {
   "cell_type": "code",
   "execution_count": 25,
   "metadata": {},
   "outputs": [
    {
     "name": "stdout",
     "output_type": "stream",
     "text": [
      "merging...\n",
      "encoding...\n",
      "136884\n",
      "Time for merging and encoding:  16.65203595161438\n",
      "uploading...\n",
      "0 272\n",
      "100 272\n",
      "200 272\n",
      "Time for loading:  5.2409844398498535\n",
      "Total time:  21.89501929283142\n"
     ]
    }
   ],
   "source": [
    "hiddev = DmdDeviceHID()\n",
    "hiddev.changemode(3)\n",
    "\n",
    "exposure=[1000000]*len(images)\n",
    "dark_time=[0]*len(images)\n",
    "trigger_in=[False]*len(images)\n",
    "trigger_out=[True]*len(images)\n",
    "\n",
    "hiddev.defsequence(images,exposure,trigger_in,dark_time,trigger_out, 60)\n",
    "# hiddev.startsequence()"
   ]
  },
  {
   "cell_type": "code",
   "execution_count": 25,
   "metadata": {},
   "outputs": [],
   "source": [
    "hiddev.startsequence()"
   ]
  }
 ],
 "metadata": {
  "interpreter": {
   "hash": "d3619e30f5b54529ba71dcf8a375b90d40a1b72f296e54f8dd1de35fe067505a"
  },
  "kernelspec": {
   "display_name": "Python 3.8.12 ('hadamard')",
   "language": "python",
   "name": "python3"
  },
  "language_info": {
   "codemirror_mode": {
    "name": "ipython",
    "version": 3
   },
   "file_extension": ".py",
   "mimetype": "text/x-python",
   "name": "python",
   "nbconvert_exporter": "python",
   "pygments_lexer": "ipython3",
   "version": "3.8.12"
  },
  "orig_nbformat": 4
 },
 "nbformat": 4,
 "nbformat_minor": 2
}
