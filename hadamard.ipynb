{
 "cells": [
  {
   "cell_type": "code",
   "execution_count": 33,
   "metadata": {},
   "outputs": [],
   "source": [
    "%reload_ext autoreload\n",
    "%autoreload 2\n",
    "from pywinusb import hid\n",
    "from lib.DMDpycrafter import DMDhid\n",
    "import PIL.Image\n",
    "import matplotlib.pyplot as plt\n",
    "import numpy as np\n"
   ]
  },
  {
   "cell_type": "code",
   "execution_count": 34,
   "metadata": {},
   "outputs": [],
   "source": [
    "images=[]\n",
    "img = np.asarray(PIL.Image.open(\"testimage.tif\"))//129\n",
    "\n",
    "h = (1600-1080)/2\n",
    "w = (2560-1920)/2\n",
    "img = np.pad(img, ((int(np.floor(h)), int(np.ceil(h))), (int(np.floor(w)), int(np.ceil(w)))), 'constant', constant_values=(0.5, 0.5))\n",
    "\n",
    "images.append(img)"
   ]
  },
  {
   "cell_type": "code",
   "execution_count": 35,
   "metadata": {},
   "outputs": [
    {
     "name": "stdout",
     "output_type": "stream",
     "text": [
      "merging...\n",
      "encoding...\n",
      "uploading...\n",
      "0 272\n",
      "100 272\n",
      "200 272\n"
     ]
    }
   ],
   "source": [
    "dmd = DMDhid()\n",
    "dmd.stopsequence()\n",
    "dmd.changemode(3)\n",
    "exposure=[1000000]*30\n",
    "dark_time=[0]*30\n",
    "trigger_in=[False]*30\n",
    "trigger_out=[1]*30\n",
    "dmd.defsequence(images,exposure,trigger_in,dark_time,trigger_out,0)\n"
   ]
  },
  {
   "cell_type": "code",
   "execution_count": 30,
   "metadata": {},
   "outputs": [],
   "source": [
    "dmd.startsequence()"
   ]
  },
  {
   "cell_type": "code",
   "execution_count": 48,
   "metadata": {},
   "outputs": [
    {
     "data": {
      "text/plain": [
       "array([[0, 0, 0, ..., 0, 0, 0],\n",
       "       [0, 0, 0, ..., 0, 0, 0],\n",
       "       [0, 0, 0, ..., 0, 0, 0],\n",
       "       ...,\n",
       "       [0, 0, 0, ..., 0, 0, 0],\n",
       "       [0, 0, 0, ..., 0, 0, 0],\n",
       "       [0, 0, 0, ..., 0, 0, 0]], dtype=uint8)"
      ]
     },
     "execution_count": 48,
     "metadata": {},
     "output_type": "execute_result"
    }
   ],
   "source": [
    "img"
   ]
  },
  {
   "cell_type": "code",
   "execution_count": 50,
   "metadata": {},
   "outputs": [],
   "source": [
    "\n",
    "# image content\n",
    "for i in range(img.shape[0]):\n",
    "    # bool array indicating if same as previous row, shape = (1920, )\n",
    "    same_prev = np.zeros(img.shape[1], dtype=bool) if i == 0 else img[i] == img[i-1]\n",
    "    # encoded += encode_row(image[i], same_prev)"
   ]
  },
  {
   "cell_type": "code",
   "execution_count": 64,
   "metadata": {},
   "outputs": [],
   "source": [
    "rr = np.zeros(img.shape[1], dtype=bool) if i == 1 else img[800] == img[799]"
   ]
  },
  {
   "cell_type": "code",
   "execution_count": 70,
   "metadata": {},
   "outputs": [],
   "source": [
    "prev = img[799]"
   ]
  },
  {
   "cell_type": "code",
   "execution_count": 71,
   "metadata": {},
   "outputs": [
    {
     "data": {
      "text/plain": [
       "array([ True,  True,  True, ...,  True,  True,  True])"
      ]
     },
     "execution_count": 71,
     "metadata": {},
     "output_type": "execute_result"
    }
   ],
   "source": [
    "np.logical_not(np.diff(rr))"
   ]
  },
  {
   "cell_type": "code",
   "execution_count": 74,
   "metadata": {},
   "outputs": [
    {
     "data": {
      "text/plain": [
       "2539"
      ]
     },
     "execution_count": 74,
     "metadata": {},
     "output_type": "execute_result"
    }
   ],
   "source": [
    "sum(rr)"
   ]
  },
  {
   "cell_type": "code",
   "execution_count": 78,
   "metadata": {},
   "outputs": [
    {
     "data": {
      "text/plain": [
       "2533"
      ]
     },
     "execution_count": 78,
     "metadata": {},
     "output_type": "execute_result"
    }
   ],
   "source": [
    "sum(np.logical_not(np.diff(rr)))"
   ]
  },
  {
   "cell_type": "code",
   "execution_count": 76,
   "metadata": {},
   "outputs": [
    {
     "data": {
      "text/plain": [
       "array([False, False, False, ..., False, False, False])"
      ]
     },
     "execution_count": 76,
     "metadata": {},
     "output_type": "execute_result"
    }
   ],
   "source": [
    "np.diff(rr)"
   ]
  },
  {
   "cell_type": "code",
   "execution_count": 15,
   "metadata": {},
   "outputs": [],
   "source": [
    "from utils import CustomLogger\n",
    "\n",
    "logger = CustomLogger().info_logger"
   ]
  },
  {
   "cell_type": "code",
   "execution_count": 59,
   "metadata": {},
   "outputs": [],
   "source": [
    "import struct\n",
    "pack32be = struct.Struct('>I').pack"
   ]
  },
  {
   "cell_type": "code",
   "execution_count": 24,
   "metadata": {},
   "outputs": [],
   "source": [
    "def defsequence(self,images,exp,ti,dt,to,rep):\n",
    "\n",
    "    self.stopsequence()\n",
    "\n",
    "    arr=[]\n",
    "\n",
    "    for i in images:\n",
    "        arr.append(i)\n",
    "\n",
    "##        arr.append(numpy.ones((1080,1920),dtype='uint8'))\n",
    "\n",
    "    num=len(arr)\n",
    "\n",
    "    encodedimages=[]\n",
    "    sizes=[]\n",
    "\n",
    "    for i in range((num-1)//24+1):\n",
    "        print ('merging...')\n",
    "        if i<((num-1)//24):\n",
    "            imagedata=arr[i*24:(i+1)*24]\n",
    "        else:\n",
    "            imagedata=arr[i*24:]\n",
    "        print ('encoding...')\n",
    "        imagedata,size=encode(imagedata)\n",
    "        \n",
    "\n",
    "        encodedimages.append(imagedata)\n",
    "        sizes.append(size)\n",
    "\n",
    "        if i<((num-1)//24):\n",
    "            for j in range(i*24,(i+1)*24):\n",
    "                self.definepattern(j,exp[j],1,'111',ti[j],dt[j],to[j],i,j-i*24)\n",
    "        else:\n",
    "            for j in range(i*24,num):\n",
    "                self.definepattern(j,exp[j],1,'111',ti[j],dt[j],to[j],i,j-i*24)\n",
    "\n",
    "    self.configurelut(num,rep)\n",
    "\n",
    "    for i in range((num-1)//24+1):\n",
    "    \n",
    "        self.setbmp((num-1)//24-i,sizes[(num-1)//24-i])\n",
    "\n",
    "        print ('uploading...')\n",
    "        self.bmpload(encodedimages[(num-1)//24-i],sizes[(num-1)//24-i])"
   ]
  },
  {
   "cell_type": "code",
   "execution_count": 25,
   "metadata": {},
   "outputs": [],
   "source": [
    "dev = devices[0]"
   ]
  },
  {
   "cell_type": "code",
   "execution_count": 26,
   "metadata": {},
   "outputs": [],
   "source": [
    "dev.open()"
   ]
  },
  {
   "cell_type": "code",
   "execution_count": 27,
   "metadata": {},
   "outputs": [
    {
     "data": {
      "text/plain": [
       "[HID report object (Output report, id=0x00), 1 items included]"
      ]
     },
     "execution_count": 27,
     "metadata": {},
     "output_type": "execute_result"
    }
   ],
   "source": [
    "dev.find_output_reports()"
   ]
  },
  {
   "cell_type": "code",
   "execution_count": 14,
   "metadata": {},
   "outputs": [],
   "source": [
    "def bitstobytes(a):\n",
    "    bytelist=[]\n",
    "    if len(a)%8!=0:\n",
    "        padding=8-len(a)%8\n",
    "        a='0'*padding+a\n",
    "    for i in range(len(a)//8):\n",
    "        bytelist.append(int(a[8*i:8*(i+1)],2))\n",
    "\n",
    "    bytelist.reverse()\n",
    "\n",
    "    return bytelist"
   ]
  },
  {
   "cell_type": "code",
   "execution_count": 4,
   "metadata": {},
   "outputs": [
    {
     "data": {
      "text/plain": [
       "[6, 0]"
      ]
     },
     "execution_count": 4,
     "metadata": {},
     "output_type": "execute_result"
    }
   ],
   "source": [
    "def bitstobytes(a):\n",
    "    bytelist=[]\n",
    "    if len(a)%8!=0:\n",
    "        padding=8-len(a)%8\n",
    "        a='0'*padding+a\n",
    "    for i in range(len(a)//8):\n",
    "        bytelist.append(int(a[8*i:8*(i+1)],2))\n",
    "\n",
    "    bytelist.reverse()\n",
    "\n",
    "    return bytelist\n",
    "\n",
    "def convlen(a,l):\n",
    "    b=bin(a)[2:]\n",
    "    padding=l-len(b)\n",
    "    b='0'*padding+b\n",
    "\n",
    "    return b\n",
    "\n",
    "bitstobytes(convlen(len([0xff,0x01,0xff,0x01])+2,16))"
   ]
  },
  {
   "cell_type": "code",
   "execution_count": null,
   "metadata": {},
   "outputs": [],
   "source": [
    "def command(self,mode,sequencebyte,com1,com2,data=None):\n",
    "    buffer = []\n",
    "\n",
    "    flagstring=''\n",
    "    if mode=='r':\n",
    "        flagstring+='1'\n",
    "    else:\n",
    "        flagstring+='0'        \n",
    "    flagstring+='1000000'\n",
    "    buffer.append(bitstobytes(flagstring)[0])\n",
    "    buffer.append(sequencebyte)\n",
    "    temp=bitstobytes(convlen(len(data)+2,16))\n",
    "    buffer.append(temp[0])\n",
    "    buffer.append(temp[1])\n",
    "    buffer.append(com2)\n",
    "    buffer.append(com1)\n",
    "\n",
    "    if len(buffer)+len(data)<65:\n",
    "    \n",
    "        for i in range(len(data)):\n",
    "            buffer.append(data[i])\n",
    "\n",
    "        for i in range(64-len(buffer)):\n",
    "            buffer.append(0x00)\n",
    "\n",
    "\n",
    "        self.dev.write(1, buffer)\n",
    "\n",
    "    else:\n",
    "        for i in range(64-len(buffer)):\n",
    "            buffer.append(data[i])\n",
    "\n",
    "        self.dev.write(1, buffer)\n",
    "\n",
    "        buffer = []\n",
    "\n",
    "        j=0\n",
    "        while j<len(data)-58:\n",
    "            buffer.append(data[j+58])\n",
    "            j=j+1\n",
    "            if j%64==0:\n",
    "                self.dev.write(1, buffer)\n",
    "\n",
    "                buffer = []\n",
    "\n",
    "        if j%64!=0:\n",
    "\n",
    "            while j%64!=0:\n",
    "                buffer.append(0x00)\n",
    "                j=j+1\n",
    "\n",
    "\n",
    "            self.dev.write(1, buffer)                \n",
    "            \n",
    "\n",
    "\n",
    "\n",
    "\n",
    "\n",
    "    self.ans=self.dev.read(0x81,64)"
   ]
  },
  {
   "cell_type": "code",
   "execution_count": 17,
   "metadata": {},
   "outputs": [
    {
     "data": {
      "text/plain": [
       "[3, 0]"
      ]
     },
     "execution_count": 17,
     "metadata": {},
     "output_type": "execute_result"
    }
   ],
   "source": [
    "bitstobytes(convlen(len([int('00000001',2)])+2,16))"
   ]
  },
  {
   "cell_type": "code",
   "execution_count": null,
   "metadata": {},
   "outputs": [],
   "source": [
    "def convlen(a,l):\n",
    "    b=bin(a)[2:]\n",
    "    padding=l-len(b)\n",
    "    b='0'*padding+b\n",
    "\n",
    "    return b\n",
    "\n",
    "def bitstobytes(a):\n",
    "    bytelist=[]\n",
    "    if len(a)%8!=0:\n",
    "        padding=8-len(a)%8\n",
    "        a='0'*padding+a\n",
    "    for i in range(len(a)//8):\n",
    "        bytelist.append(int(a[8*i:8*(i+1)],2))\n",
    "\n",
    "    bytelist.reverse() \n"
   ]
  },
  {
   "cell_type": "code",
   "execution_count": 45,
   "metadata": {},
   "outputs": [],
   "source": [
    "for i in range(-10):\n",
    "    print(i)"
   ]
  },
  {
   "cell_type": "code",
   "execution_count": 23,
   "metadata": {},
   "outputs": [
    {
     "data": {
      "text/plain": [
       "6"
      ]
     },
     "execution_count": 23,
     "metadata": {},
     "output_type": "execute_result"
    }
   ],
   "source": [
    "len([0xff,0x01,0xff,0x01,0xff,0x01])"
   ]
  },
  {
   "cell_type": "code",
   "execution_count": 29,
   "metadata": {},
   "outputs": [
    {
     "data": {
      "text/plain": [
       "'0000000000000011'"
      ]
     },
     "execution_count": 29,
     "metadata": {},
     "output_type": "execute_result"
    }
   ],
   "source": [
    "convlen(3, 16)"
   ]
  },
  {
   "cell_type": "code",
   "execution_count": 33,
   "metadata": {},
   "outputs": [
    {
     "data": {
      "text/plain": [
       "[3, 0]"
      ]
     },
     "execution_count": 33,
     "metadata": {},
     "output_type": "execute_result"
    }
   ],
   "source": [
    "bitstobytes(convlen(3, 16))"
   ]
  },
  {
   "cell_type": "code",
   "execution_count": 34,
   "metadata": {},
   "outputs": [],
   "source": [
    "for i in range(0):\n",
    "    print(i)"
   ]
  },
  {
   "cell_type": "code",
   "execution_count": 1,
   "metadata": {},
   "outputs": [],
   "source": [
    "# %load_ext autoreload\n",
    "%reload_ext autoreload\n",
    "%autoreload 2\n",
    "\n",
    "from lib.utils import CustomLogger\n",
    "import logging"
   ]
  },
  {
   "cell_type": "code",
   "execution_count": 2,
   "metadata": {},
   "outputs": [],
   "source": [
    "logger = CustomLogger().info_logger"
   ]
  },
  {
   "cell_type": "code",
   "execution_count": 3,
   "metadata": {},
   "outputs": [
    {
     "name": "stdout",
     "output_type": "stream",
     "text": [
      "[INFO | 2022-02-19 20:35:54,826 | 1375158448.py | asdf] (line 3) asdf :: info logger\n"
     ]
    }
   ],
   "source": [
    "def asdf():\n",
    "    for i in range(1):\n",
    "        logger.info('asdf')\n",
    "asdf()"
   ]
  },
  {
   "cell_type": "code",
   "execution_count": null,
   "metadata": {},
   "outputs": [],
   "source": []
  }
 ],
 "metadata": {
  "interpreter": {
   "hash": "d3619e30f5b54529ba71dcf8a375b90d40a1b72f296e54f8dd1de35fe067505a"
  },
  "kernelspec": {
   "display_name": "Python 3.8.12 ('hadamard')",
   "language": "python",
   "name": "python3"
  },
  "language_info": {
   "codemirror_mode": {
    "name": "ipython",
    "version": 3
   },
   "file_extension": ".py",
   "mimetype": "text/x-python",
   "name": "python",
   "nbconvert_exporter": "python",
   "pygments_lexer": "ipython3",
   "version": "3.8.12"
  },
  "orig_nbformat": 4
 },
 "nbformat": 4,
 "nbformat_minor": 2
}
